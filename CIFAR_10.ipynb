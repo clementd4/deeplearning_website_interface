{
  "nbformat": 4,
  "nbformat_minor": 0,
  "metadata": {
    "colab": {
      "provenance": [],
      "gpuType": "T4"
    },
    "kernelspec": {
      "name": "python3",
      "display_name": "Python 3"
    },
    "language_info": {
      "name": "python"
    },
    "accelerator": "GPU",
    "gpuClass": "standard"
  },
  "cells": [
    {
      "cell_type": "code",
      "source": [
        "from keras.datasets import cifar10\n",
        "import tensorflow as tf\n",
        "from tensorflow import keras\n",
        "\n",
        "import numpy as np\n",
        "import matplotlib.pyplot as plt"
      ],
      "metadata": {
        "id": "DtjIFdp0iqaP"
      },
      "execution_count": null,
      "outputs": []
    },
    {
      "cell_type": "code",
      "source": [
        "(trainX, trainY), (testX, testY) = cifar10.load_data()"
      ],
      "metadata": {
        "colab": {
          "base_uri": "https://localhost:8080/"
        },
        "id": "mZ-6_LJxitwA",
        "outputId": "16cea408-bbf0-4e3d-c987-8f5c5265620c"
      },
      "execution_count": null,
      "outputs": [
        {
          "output_type": "stream",
          "name": "stdout",
          "text": [
            "Downloading data from https://www.cs.toronto.edu/~kriz/cifar-10-python.tar.gz\n",
            "170498071/170498071 [==============================] - 6s 0us/step\n"
          ]
        }
      ]
    },
    {
      "cell_type": "code",
      "source": [
        "trainX = trainX / 255.0\n",
        "testX = testX / 255.0"
      ],
      "metadata": {
        "id": "07l1hrnplJ3Y"
      },
      "execution_count": null,
      "outputs": []
    },
    {
      "cell_type": "code",
      "source": [
        "trainY = tf.keras.utils.to_categorical(trainY)\n",
        "testY = tf.keras.utils.to_categorical(testY)"
      ],
      "metadata": {
        "id": "lMNJOgUXiDUc"
      },
      "execution_count": null,
      "outputs": []
    },
    {
      "cell_type": "code",
      "source": [
        "datagen = tf.keras.preprocessing.image.ImageDataGenerator(\n",
        "    rotation_range=20,\n",
        "    width_shift_range=0.2,\n",
        "    height_shift_range=0.2,\n",
        "    shear_range=0.2,\n",
        "    zoom_range=0.2,\n",
        "    horizontal_flip=True,\n",
        "    fill_mode='nearest')"
      ],
      "metadata": {
        "id": "Rf8OCpq_prgA"
      },
      "execution_count": null,
      "outputs": []
    },
    {
      "cell_type": "code",
      "source": [
        "trainX.shape"
      ],
      "metadata": {
        "colab": {
          "base_uri": "https://localhost:8080/"
        },
        "id": "p1LwsHY-p5G6",
        "outputId": "9b3eb6be-6e65-4e7d-c7ea-03d82bbd1a96"
      },
      "execution_count": null,
      "outputs": [
        {
          "output_type": "execute_result",
          "data": {
            "text/plain": [
              "(50000, 32, 32, 3)"
            ]
          },
          "metadata": {},
          "execution_count": 11
        }
      ]
    },
    {
      "cell_type": "code",
      "source": [
        "image_tensors = tf.map_fn(tf.image.decode_image, trainX, dtype=tf.float32)\n",
        "trainX = datagen.flow(image_tensors, batch_size=10)\n",
        "trainX.shape"
      ],
      "metadata": {
        "colab": {
          "base_uri": "https://localhost:8080/"
        },
        "id": "WgJSRmZdo9iN",
        "outputId": "01f4c330-21fb-4855-a280-f6d2936a604b"
      },
      "execution_count": null,
      "outputs": [
        {
          "output_type": "execute_result",
          "data": {
            "text/plain": [
              "array([[[0.23137255, 0.24313725, 0.24705882],\n",
              "        [0.16862745, 0.18039216, 0.17647059],\n",
              "        [0.19607843, 0.18823529, 0.16862745],\n",
              "        ...,\n",
              "        [0.61960784, 0.51764706, 0.42352941],\n",
              "        [0.59607843, 0.49019608, 0.4       ],\n",
              "        [0.58039216, 0.48627451, 0.40392157]],\n",
              "\n",
              "       [[0.0627451 , 0.07843137, 0.07843137],\n",
              "        [0.        , 0.        , 0.        ],\n",
              "        [0.07058824, 0.03137255, 0.        ],\n",
              "        ...,\n",
              "        [0.48235294, 0.34509804, 0.21568627],\n",
              "        [0.46666667, 0.3254902 , 0.19607843],\n",
              "        [0.47843137, 0.34117647, 0.22352941]],\n",
              "\n",
              "       [[0.09803922, 0.09411765, 0.08235294],\n",
              "        [0.0627451 , 0.02745098, 0.        ],\n",
              "        [0.19215686, 0.10588235, 0.03137255],\n",
              "        ...,\n",
              "        [0.4627451 , 0.32941176, 0.19607843],\n",
              "        [0.47058824, 0.32941176, 0.19607843],\n",
              "        [0.42745098, 0.28627451, 0.16470588]],\n",
              "\n",
              "       ...,\n",
              "\n",
              "       [[0.81568627, 0.66666667, 0.37647059],\n",
              "        [0.78823529, 0.6       , 0.13333333],\n",
              "        [0.77647059, 0.63137255, 0.10196078],\n",
              "        ...,\n",
              "        [0.62745098, 0.52156863, 0.2745098 ],\n",
              "        [0.21960784, 0.12156863, 0.02745098],\n",
              "        [0.20784314, 0.13333333, 0.07843137]],\n",
              "\n",
              "       [[0.70588235, 0.54509804, 0.37647059],\n",
              "        [0.67843137, 0.48235294, 0.16470588],\n",
              "        [0.72941176, 0.56470588, 0.11764706],\n",
              "        ...,\n",
              "        [0.72156863, 0.58039216, 0.36862745],\n",
              "        [0.38039216, 0.24313725, 0.13333333],\n",
              "        [0.3254902 , 0.20784314, 0.13333333]],\n",
              "\n",
              "       [[0.69411765, 0.56470588, 0.45490196],\n",
              "        [0.65882353, 0.50588235, 0.36862745],\n",
              "        [0.70196078, 0.55686275, 0.34117647],\n",
              "        ...,\n",
              "        [0.84705882, 0.72156863, 0.54901961],\n",
              "        [0.59215686, 0.4627451 , 0.32941176],\n",
              "        [0.48235294, 0.36078431, 0.28235294]]])"
            ]
          },
          "metadata": {},
          "execution_count": 9
        }
      ]
    },
    {
      "cell_type": "code",
      "source": [
        "from tensorflow.keras.models import Sequential\n",
        "from tensorflow.keras.layers import Conv2D, MaxPooling2D, Flatten, Dense, Dropout\n",
        "\n",
        "input_shape = (32, 32, 3)\n",
        "\n",
        "model = Sequential()\n",
        "\n",
        "model.add(Conv2D(32, (3, 3), activation='relu', input_shape=input_shape))\n",
        "model.add(MaxPooling2D(pool_size=(2, 2)))\n",
        "model.add(Conv2D(64, (3, 3), activation='relu'))\n",
        "model.add(MaxPooling2D(pool_size=(2, 2)))\n",
        "model.add(Flatten())\n",
        "model.add(Dense(64, activation='relu'))\n",
        "model.add(Dropout(0.5))\n",
        "model.add(Dense(10, activation='softmax'))\n",
        "\n",
        "model.compile(loss='categorical_crossentropy', optimizer='adam', metrics=['accuracy'])\n",
        "\n",
        "model.summary()\n"
      ],
      "metadata": {
        "colab": {
          "base_uri": "https://localhost:8080/"
        },
        "id": "irzP2mHpkWhj",
        "outputId": "4b2aa637-574a-420f-9835-1996bcd13452"
      },
      "execution_count": null,
      "outputs": [
        {
          "output_type": "stream",
          "name": "stdout",
          "text": [
            "Model: \"sequential\"\n",
            "_________________________________________________________________\n",
            " Layer (type)                Output Shape              Param #   \n",
            "=================================================================\n",
            " conv2d (Conv2D)             (None, 30, 30, 32)        896       \n",
            "                                                                 \n",
            " max_pooling2d (MaxPooling2D  (None, 15, 15, 32)       0         \n",
            " )                                                               \n",
            "                                                                 \n",
            " conv2d_1 (Conv2D)           (None, 13, 13, 64)        18496     \n",
            "                                                                 \n",
            " max_pooling2d_1 (MaxPooling  (None, 6, 6, 64)         0         \n",
            " 2D)                                                             \n",
            "                                                                 \n",
            " flatten (Flatten)           (None, 2304)              0         \n",
            "                                                                 \n",
            " dense (Dense)               (None, 64)                147520    \n",
            "                                                                 \n",
            " dropout (Dropout)           (None, 64)                0         \n",
            "                                                                 \n",
            " dense_1 (Dense)             (None, 10)                650       \n",
            "                                                                 \n",
            "=================================================================\n",
            "Total params: 167,562\n",
            "Trainable params: 167,562\n",
            "Non-trainable params: 0\n",
            "_________________________________________________________________\n"
          ]
        }
      ]
    },
    {
      "cell_type": "code",
      "source": [
        "history = model.fit(trainX, trainY, epochs=100, batch_size=64, validation_data=(testX, testY))"
      ],
      "metadata": {
        "colab": {
          "base_uri": "https://localhost:8080/"
        },
        "id": "4fA9eS8yjPgo",
        "outputId": "8d387d7f-e2e0-472a-bcfe-2c485dc11cf7"
      },
      "execution_count": null,
      "outputs": [
        {
          "output_type": "stream",
          "name": "stdout",
          "text": [
            "Epoch 1/100\n",
            "782/782 [==============================] - 4s 6ms/step - loss: 1.0496 - accuracy: 0.6214 - val_loss: 0.9412 - val_accuracy: 0.6773\n",
            "Epoch 2/100\n",
            "782/782 [==============================] - 4s 5ms/step - loss: 1.0167 - accuracy: 0.6338 - val_loss: 0.9366 - val_accuracy: 0.6752\n",
            "Epoch 3/100\n",
            "782/782 [==============================] - 5s 6ms/step - loss: 0.9996 - accuracy: 0.6381 - val_loss: 0.9128 - val_accuracy: 0.6851\n",
            "Epoch 4/100\n",
            "782/782 [==============================] - 4s 5ms/step - loss: 0.9788 - accuracy: 0.6442 - val_loss: 0.8920 - val_accuracy: 0.6944\n",
            "Epoch 5/100\n",
            "782/782 [==============================] - 4s 5ms/step - loss: 0.9534 - accuracy: 0.6551 - val_loss: 0.9248 - val_accuracy: 0.6861\n",
            "Epoch 6/100\n",
            "782/782 [==============================] - 4s 6ms/step - loss: 0.9408 - accuracy: 0.6605 - val_loss: 0.9084 - val_accuracy: 0.6957\n",
            "Epoch 7/100\n",
            "782/782 [==============================] - 4s 5ms/step - loss: 0.9227 - accuracy: 0.6641 - val_loss: 0.8899 - val_accuracy: 0.6958\n",
            "Epoch 8/100\n",
            "782/782 [==============================] - 5s 6ms/step - loss: 0.9029 - accuracy: 0.6729 - val_loss: 0.8765 - val_accuracy: 0.7033\n",
            "Epoch 9/100\n",
            "782/782 [==============================] - 4s 6ms/step - loss: 0.8950 - accuracy: 0.6743 - val_loss: 0.8908 - val_accuracy: 0.6976\n",
            "Epoch 10/100\n",
            "782/782 [==============================] - 4s 5ms/step - loss: 0.8805 - accuracy: 0.6777 - val_loss: 0.8878 - val_accuracy: 0.7008\n",
            "Epoch 11/100\n",
            "782/782 [==============================] - 5s 6ms/step - loss: 0.8661 - accuracy: 0.6821 - val_loss: 0.8820 - val_accuracy: 0.7013\n",
            "Epoch 12/100\n",
            "782/782 [==============================] - 4s 5ms/step - loss: 0.8643 - accuracy: 0.6824 - val_loss: 0.9030 - val_accuracy: 0.6996\n",
            "Epoch 13/100\n",
            "782/782 [==============================] - 4s 5ms/step - loss: 0.8476 - accuracy: 0.6891 - val_loss: 0.8862 - val_accuracy: 0.7058\n",
            "Epoch 14/100\n",
            "782/782 [==============================] - 5s 6ms/step - loss: 0.8394 - accuracy: 0.6892 - val_loss: 0.8867 - val_accuracy: 0.6979\n",
            "Epoch 15/100\n",
            "782/782 [==============================] - 4s 5ms/step - loss: 0.8265 - accuracy: 0.6940 - val_loss: 0.8845 - val_accuracy: 0.7029\n",
            "Epoch 16/100\n",
            "782/782 [==============================] - 4s 5ms/step - loss: 0.8220 - accuracy: 0.6959 - val_loss: 0.8781 - val_accuracy: 0.7016\n",
            "Epoch 17/100\n",
            "782/782 [==============================] - 5s 6ms/step - loss: 0.8083 - accuracy: 0.7001 - val_loss: 0.8728 - val_accuracy: 0.7079\n",
            "Epoch 18/100\n",
            "782/782 [==============================] - 4s 5ms/step - loss: 0.8042 - accuracy: 0.7009 - val_loss: 0.9085 - val_accuracy: 0.7013\n",
            "Epoch 19/100\n",
            "782/782 [==============================] - 4s 5ms/step - loss: 0.7976 - accuracy: 0.7003 - val_loss: 0.8957 - val_accuracy: 0.7026\n",
            "Epoch 20/100\n",
            "782/782 [==============================] - 5s 6ms/step - loss: 0.7930 - accuracy: 0.7032 - val_loss: 0.9363 - val_accuracy: 0.6949\n",
            "Epoch 21/100\n",
            "782/782 [==============================] - 4s 5ms/step - loss: 0.7757 - accuracy: 0.7103 - val_loss: 0.9076 - val_accuracy: 0.7065\n",
            "Epoch 22/100\n",
            "782/782 [==============================] - 4s 5ms/step - loss: 0.7793 - accuracy: 0.7058 - val_loss: 0.9469 - val_accuracy: 0.6978\n",
            "Epoch 23/100\n",
            "782/782 [==============================] - 5s 6ms/step - loss: 0.7683 - accuracy: 0.7123 - val_loss: 0.9240 - val_accuracy: 0.7022\n",
            "Epoch 24/100\n",
            "782/782 [==============================] - 4s 5ms/step - loss: 0.7663 - accuracy: 0.7117 - val_loss: 0.9446 - val_accuracy: 0.6979\n",
            "Epoch 25/100\n",
            "782/782 [==============================] - 4s 5ms/step - loss: 0.7533 - accuracy: 0.7171 - val_loss: 0.9037 - val_accuracy: 0.7065\n",
            "Epoch 26/100\n",
            "782/782 [==============================] - 5s 6ms/step - loss: 0.7460 - accuracy: 0.7178 - val_loss: 0.9258 - val_accuracy: 0.7046\n",
            "Epoch 27/100\n",
            "782/782 [==============================] - 4s 5ms/step - loss: 0.7372 - accuracy: 0.7226 - val_loss: 0.9916 - val_accuracy: 0.6939\n",
            "Epoch 28/100\n",
            "782/782 [==============================] - 4s 5ms/step - loss: 0.7383 - accuracy: 0.7189 - val_loss: 0.9110 - val_accuracy: 0.7052\n",
            "Epoch 29/100\n",
            "782/782 [==============================] - 5s 6ms/step - loss: 0.7303 - accuracy: 0.7241 - val_loss: 0.9422 - val_accuracy: 0.7022\n",
            "Epoch 30/100\n",
            "782/782 [==============================] - 4s 5ms/step - loss: 0.7250 - accuracy: 0.7260 - val_loss: 0.9528 - val_accuracy: 0.6990\n",
            "Epoch 31/100\n",
            "782/782 [==============================] - 4s 5ms/step - loss: 0.7208 - accuracy: 0.7222 - val_loss: 0.9415 - val_accuracy: 0.7002\n",
            "Epoch 32/100\n",
            "782/782 [==============================] - 4s 6ms/step - loss: 0.7085 - accuracy: 0.7325 - val_loss: 0.9618 - val_accuracy: 0.7049\n",
            "Epoch 33/100\n",
            "782/782 [==============================] - 4s 5ms/step - loss: 0.7004 - accuracy: 0.7313 - val_loss: 0.9564 - val_accuracy: 0.7032\n",
            "Epoch 34/100\n",
            "782/782 [==============================] - 4s 5ms/step - loss: 0.6850 - accuracy: 0.7394 - val_loss: 0.9671 - val_accuracy: 0.7059\n",
            "Epoch 35/100\n",
            "782/782 [==============================] - 5s 6ms/step - loss: 0.6971 - accuracy: 0.7352 - val_loss: 0.9480 - val_accuracy: 0.7032\n",
            "Epoch 36/100\n",
            "782/782 [==============================] - 4s 5ms/step - loss: 0.6893 - accuracy: 0.7388 - val_loss: 0.9618 - val_accuracy: 0.7048\n",
            "Epoch 37/100\n",
            "782/782 [==============================] - 4s 5ms/step - loss: 0.6829 - accuracy: 0.7374 - val_loss: 0.9355 - val_accuracy: 0.7128\n",
            "Epoch 38/100\n",
            "782/782 [==============================] - 5s 6ms/step - loss: 0.6729 - accuracy: 0.7406 - val_loss: 0.9748 - val_accuracy: 0.7015\n",
            "Epoch 39/100\n",
            "782/782 [==============================] - 4s 5ms/step - loss: 0.6738 - accuracy: 0.7430 - val_loss: 1.0027 - val_accuracy: 0.6954\n",
            "Epoch 40/100\n",
            "782/782 [==============================] - 5s 6ms/step - loss: 0.6637 - accuracy: 0.7445 - val_loss: 0.9610 - val_accuracy: 0.7089\n",
            "Epoch 41/100\n",
            "782/782 [==============================] - 4s 5ms/step - loss: 0.6663 - accuracy: 0.7449 - val_loss: 0.9960 - val_accuracy: 0.7066\n",
            "Epoch 42/100\n",
            "782/782 [==============================] - 4s 6ms/step - loss: 0.6574 - accuracy: 0.7476 - val_loss: 0.9916 - val_accuracy: 0.7123\n",
            "Epoch 43/100\n",
            "782/782 [==============================] - 5s 6ms/step - loss: 0.6524 - accuracy: 0.7487 - val_loss: 1.0099 - val_accuracy: 0.7020\n",
            "Epoch 44/100\n",
            "782/782 [==============================] - 4s 5ms/step - loss: 0.6465 - accuracy: 0.7492 - val_loss: 0.9872 - val_accuracy: 0.7042\n",
            "Epoch 45/100\n",
            "782/782 [==============================] - 4s 5ms/step - loss: 0.6489 - accuracy: 0.7478 - val_loss: 1.0106 - val_accuracy: 0.7043\n",
            "Epoch 46/100\n",
            "782/782 [==============================] - 5s 6ms/step - loss: 0.6404 - accuracy: 0.7518 - val_loss: 1.0347 - val_accuracy: 0.7043\n",
            "Epoch 47/100\n",
            "782/782 [==============================] - 4s 5ms/step - loss: 0.6341 - accuracy: 0.7531 - val_loss: 1.0481 - val_accuracy: 0.7082\n",
            "Epoch 48/100\n",
            "782/782 [==============================] - 4s 5ms/step - loss: 0.6315 - accuracy: 0.7547 - val_loss: 1.0379 - val_accuracy: 0.7104\n",
            "Epoch 49/100\n",
            "782/782 [==============================] - 5s 6ms/step - loss: 0.6343 - accuracy: 0.7533 - val_loss: 1.0075 - val_accuracy: 0.7116\n",
            "Epoch 50/100\n",
            "782/782 [==============================] - 4s 5ms/step - loss: 0.6255 - accuracy: 0.7557 - val_loss: 1.0342 - val_accuracy: 0.7070\n",
            "Epoch 51/100\n",
            "782/782 [==============================] - 4s 5ms/step - loss: 0.6264 - accuracy: 0.7577 - val_loss: 1.0796 - val_accuracy: 0.6996\n",
            "Epoch 52/100\n",
            "782/782 [==============================] - 5s 6ms/step - loss: 0.6192 - accuracy: 0.7590 - val_loss: 1.0671 - val_accuracy: 0.7073\n",
            "Epoch 53/100\n",
            "782/782 [==============================] - 4s 5ms/step - loss: 0.6140 - accuracy: 0.7609 - val_loss: 1.0403 - val_accuracy: 0.7088\n",
            "Epoch 54/100\n",
            "782/782 [==============================] - 4s 5ms/step - loss: 0.6144 - accuracy: 0.7602 - val_loss: 1.0727 - val_accuracy: 0.7054\n",
            "Epoch 55/100\n",
            "782/782 [==============================] - 5s 6ms/step - loss: 0.6137 - accuracy: 0.7621 - val_loss: 1.0544 - val_accuracy: 0.7014\n",
            "Epoch 56/100\n",
            "782/782 [==============================] - 4s 5ms/step - loss: 0.6095 - accuracy: 0.7616 - val_loss: 1.0591 - val_accuracy: 0.7039\n",
            "Epoch 57/100\n",
            "782/782 [==============================] - 4s 5ms/step - loss: 0.6103 - accuracy: 0.7615 - val_loss: 1.0510 - val_accuracy: 0.7033\n",
            "Epoch 58/100\n",
            "782/782 [==============================] - 5s 6ms/step - loss: 0.6117 - accuracy: 0.7610 - val_loss: 1.0907 - val_accuracy: 0.7078\n",
            "Epoch 59/100\n",
            "782/782 [==============================] - 4s 5ms/step - loss: 0.6052 - accuracy: 0.7631 - val_loss: 1.0719 - val_accuracy: 0.6989\n",
            "Epoch 60/100\n",
            "782/782 [==============================] - 4s 5ms/step - loss: 0.6082 - accuracy: 0.7609 - val_loss: 1.0759 - val_accuracy: 0.7091\n",
            "Epoch 61/100\n",
            "782/782 [==============================] - 4s 6ms/step - loss: 0.5945 - accuracy: 0.7664 - val_loss: 1.1123 - val_accuracy: 0.6936\n",
            "Epoch 62/100\n",
            "782/782 [==============================] - 4s 5ms/step - loss: 0.5927 - accuracy: 0.7647 - val_loss: 1.0766 - val_accuracy: 0.7058\n",
            "Epoch 63/100\n",
            "782/782 [==============================] - 4s 6ms/step - loss: 0.5889 - accuracy: 0.7674 - val_loss: 1.1215 - val_accuracy: 0.7100\n",
            "Epoch 64/100\n",
            "782/782 [==============================] - 4s 5ms/step - loss: 0.5865 - accuracy: 0.7702 - val_loss: 1.0901 - val_accuracy: 0.7101\n",
            "Epoch 65/100\n",
            "782/782 [==============================] - 4s 5ms/step - loss: 0.5896 - accuracy: 0.7690 - val_loss: 1.1172 - val_accuracy: 0.7077\n",
            "Epoch 66/100\n",
            "782/782 [==============================] - 5s 6ms/step - loss: 0.5898 - accuracy: 0.7681 - val_loss: 1.1251 - val_accuracy: 0.7079\n",
            "Epoch 67/100\n",
            "782/782 [==============================] - 4s 6ms/step - loss: 0.5895 - accuracy: 0.7688 - val_loss: 1.0996 - val_accuracy: 0.7054\n",
            "Epoch 68/100\n",
            "782/782 [==============================] - 4s 5ms/step - loss: 0.5727 - accuracy: 0.7724 - val_loss: 1.1153 - val_accuracy: 0.7026\n",
            "Epoch 69/100\n",
            "782/782 [==============================] - 5s 6ms/step - loss: 0.5715 - accuracy: 0.7734 - val_loss: 1.1550 - val_accuracy: 0.6993\n",
            "Epoch 70/100\n",
            "782/782 [==============================] - 4s 5ms/step - loss: 0.5838 - accuracy: 0.7691 - val_loss: 1.1225 - val_accuracy: 0.7060\n",
            "Epoch 71/100\n",
            "782/782 [==============================] - 4s 5ms/step - loss: 0.5719 - accuracy: 0.7745 - val_loss: 1.1485 - val_accuracy: 0.7044\n",
            "Epoch 72/100\n",
            "782/782 [==============================] - 5s 6ms/step - loss: 0.5682 - accuracy: 0.7736 - val_loss: 1.1477 - val_accuracy: 0.6989\n",
            "Epoch 73/100\n",
            "782/782 [==============================] - 4s 5ms/step - loss: 0.5739 - accuracy: 0.7738 - val_loss: 1.2032 - val_accuracy: 0.6978\n",
            "Epoch 74/100\n",
            "782/782 [==============================] - 4s 5ms/step - loss: 0.5722 - accuracy: 0.7737 - val_loss: 1.1497 - val_accuracy: 0.7048\n",
            "Epoch 75/100\n",
            "782/782 [==============================] - 5s 6ms/step - loss: 0.5689 - accuracy: 0.7762 - val_loss: 1.1521 - val_accuracy: 0.7023\n",
            "Epoch 76/100\n",
            "782/782 [==============================] - 4s 5ms/step - loss: 0.5667 - accuracy: 0.7746 - val_loss: 1.1433 - val_accuracy: 0.7064\n",
            "Epoch 77/100\n",
            "782/782 [==============================] - 4s 5ms/step - loss: 0.5563 - accuracy: 0.7798 - val_loss: 1.1710 - val_accuracy: 0.7086\n",
            "Epoch 78/100\n",
            "782/782 [==============================] - 5s 6ms/step - loss: 0.5583 - accuracy: 0.7779 - val_loss: 1.1682 - val_accuracy: 0.7147\n",
            "Epoch 79/100\n",
            "782/782 [==============================] - 4s 6ms/step - loss: 0.5552 - accuracy: 0.7762 - val_loss: 1.1810 - val_accuracy: 0.7056\n",
            "Epoch 80/100\n",
            "782/782 [==============================] - 4s 5ms/step - loss: 0.5607 - accuracy: 0.7784 - val_loss: 1.2104 - val_accuracy: 0.7071\n",
            "Epoch 81/100\n",
            "782/782 [==============================] - 5s 6ms/step - loss: 0.5514 - accuracy: 0.7786 - val_loss: 1.1989 - val_accuracy: 0.6998\n",
            "Epoch 82/100\n",
            "782/782 [==============================] - 4s 5ms/step - loss: 0.5559 - accuracy: 0.7779 - val_loss: 1.2057 - val_accuracy: 0.7007\n",
            "Epoch 83/100\n",
            "782/782 [==============================] - 4s 5ms/step - loss: 0.5539 - accuracy: 0.7793 - val_loss: 1.1575 - val_accuracy: 0.7011\n",
            "Epoch 84/100\n",
            "782/782 [==============================] - 5s 6ms/step - loss: 0.5447 - accuracy: 0.7838 - val_loss: 1.2046 - val_accuracy: 0.7011\n",
            "Epoch 85/100\n",
            "782/782 [==============================] - 4s 5ms/step - loss: 0.5513 - accuracy: 0.7797 - val_loss: 1.1842 - val_accuracy: 0.6999\n",
            "Epoch 86/100\n",
            "782/782 [==============================] - 4s 6ms/step - loss: 0.5471 - accuracy: 0.7805 - val_loss: 1.2655 - val_accuracy: 0.7004\n",
            "Epoch 87/100\n",
            "782/782 [==============================] - 5s 6ms/step - loss: 0.5389 - accuracy: 0.7833 - val_loss: 1.1967 - val_accuracy: 0.7088\n",
            "Epoch 88/100\n",
            "782/782 [==============================] - 4s 5ms/step - loss: 0.5470 - accuracy: 0.7795 - val_loss: 1.2278 - val_accuracy: 0.7047\n",
            "Epoch 89/100\n",
            "782/782 [==============================] - 4s 6ms/step - loss: 0.5416 - accuracy: 0.7832 - val_loss: 1.2086 - val_accuracy: 0.7007\n",
            "Epoch 90/100\n",
            "782/782 [==============================] - 5s 6ms/step - loss: 0.5441 - accuracy: 0.7808 - val_loss: 1.2370 - val_accuracy: 0.7007\n",
            "Epoch 91/100\n",
            "782/782 [==============================] - 4s 5ms/step - loss: 0.5371 - accuracy: 0.7848 - val_loss: 1.2480 - val_accuracy: 0.7005\n",
            "Epoch 92/100\n",
            "782/782 [==============================] - 5s 6ms/step - loss: 0.5436 - accuracy: 0.7813 - val_loss: 1.2562 - val_accuracy: 0.7021\n",
            "Epoch 93/100\n",
            "782/782 [==============================] - 4s 6ms/step - loss: 0.5367 - accuracy: 0.7856 - val_loss: 1.2617 - val_accuracy: 0.7053\n",
            "Epoch 94/100\n",
            "782/782 [==============================] - 4s 5ms/step - loss: 0.5426 - accuracy: 0.7811 - val_loss: 1.2473 - val_accuracy: 0.7031\n",
            "Epoch 95/100\n",
            "782/782 [==============================] - 5s 6ms/step - loss: 0.5351 - accuracy: 0.7837 - val_loss: 1.2860 - val_accuracy: 0.7041\n",
            "Epoch 96/100\n",
            "782/782 [==============================] - 4s 6ms/step - loss: 0.5282 - accuracy: 0.7866 - val_loss: 1.2450 - val_accuracy: 0.7039\n",
            "Epoch 97/100\n",
            "782/782 [==============================] - 4s 5ms/step - loss: 0.5292 - accuracy: 0.7857 - val_loss: 1.2919 - val_accuracy: 0.6971\n",
            "Epoch 98/100\n",
            "782/782 [==============================] - 5s 6ms/step - loss: 0.5358 - accuracy: 0.7862 - val_loss: 1.2643 - val_accuracy: 0.7009\n",
            "Epoch 99/100\n",
            "782/782 [==============================] - 4s 5ms/step - loss: 0.5271 - accuracy: 0.7852 - val_loss: 1.2372 - val_accuracy: 0.7000\n",
            "Epoch 100/100\n",
            "782/782 [==============================] - 4s 6ms/step - loss: 0.5278 - accuracy: 0.7875 - val_loss: 1.2585 - val_accuracy: 0.6998\n"
          ]
        }
      ]
    },
    {
      "cell_type": "code",
      "source": [
        "loss, acc = model.evaluate(testX, testY)"
      ],
      "metadata": {
        "colab": {
          "base_uri": "https://localhost:8080/"
        },
        "id": "N9MP5A-tj0qV",
        "outputId": "5d6cbf7a-caea-4b80-dd76-1dbec8d21ee2"
      },
      "execution_count": null,
      "outputs": [
        {
          "output_type": "stream",
          "name": "stdout",
          "text": [
            "313/313 [==============================] - 1s 3ms/step - loss: 1.2585 - accuracy: 0.6998\n"
          ]
        }
      ]
    },
    {
      "cell_type": "code",
      "source": [
        "classes = ['airplane', 'automobile', 'bird', 'cat', 'deer', 'dog', 'frog', 'horse', 'ship', 'truck']"
      ],
      "metadata": {
        "id": "W_6__bKAmgXx"
      },
      "execution_count": null,
      "outputs": []
    },
    {
      "cell_type": "code",
      "source": [
        "from skimage import io\n",
        "import cv2\n",
        "# img_read = io.imread(\"/content/Pantalon_jogger_cargo.jpg\")\n",
        "img_read = io.imread(\"/content/airplane.jpg\")\n",
        "img_read = cv2.resize(img_read, (32, 32))\n",
        "img_read = (np.expand_dims(img_read,0))"
      ],
      "metadata": {
        "id": "KSwUF6aUqJTy"
      },
      "execution_count": null,
      "outputs": []
    },
    {
      "cell_type": "code",
      "source": [
        "predictions = model.predict(img_read)\n",
        "predictions[0]"
      ],
      "metadata": {
        "colab": {
          "base_uri": "https://localhost:8080/"
        },
        "id": "FaZ_4jLIqbyM",
        "outputId": "8d5d844b-9f07-4da6-ac55-1753bfac207f"
      },
      "execution_count": null,
      "outputs": [
        {
          "output_type": "stream",
          "name": "stdout",
          "text": [
            "1/1 [==============================] - 0s 131ms/step\n"
          ]
        },
        {
          "output_type": "execute_result",
          "data": {
            "text/plain": [
              "array([1., 0., 0., 0., 0., 0., 0., 0., 0., 0.], dtype=float32)"
            ]
          },
          "metadata": {},
          "execution_count": 15
        }
      ]
    },
    {
      "cell_type": "code",
      "source": [
        "model.save(\"cifar10.h5\")"
      ],
      "metadata": {
        "id": "558Z4gyArR79"
      },
      "execution_count": null,
      "outputs": []
    }
  ]
}